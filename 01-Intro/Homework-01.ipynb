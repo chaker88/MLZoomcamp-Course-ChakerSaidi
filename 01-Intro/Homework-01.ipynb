{
 "cells": [
  {
   "cell_type": "code",
   "execution_count": 2,
   "id": "b0f27f41-1797-4bb3-aad9-d48a748975cc",
   "metadata": {},
   "outputs": [
    {
     "name": "stdout",
     "output_type": "stream",
     "text": [
      "###########################\n",
      "Description of the Dataset : \n",
      "<bound method NDFrame.describe of       engine_displacement  num_cylinders  ...  num_doors  fuel_efficiency_mpg\n",
      "0                     170            3.0  ...        0.0            13.231729\n",
      "1                     130            5.0  ...        0.0            13.688217\n",
      "2                     170            NaN  ...        0.0            14.246341\n",
      "3                     220            4.0  ...        2.0            16.912736\n",
      "4                     210            1.0  ...        2.0            12.488369\n",
      "...                   ...            ...  ...        ...                  ...\n",
      "9699                  140            5.0  ...        NaN            15.101802\n",
      "9700                  180            NaN  ...        0.0            17.962326\n",
      "9701                  220            2.0  ...       -1.0            17.186587\n",
      "9702                  230            4.0  ...        1.0            15.331551\n",
      "9703                  270            3.0  ...       -1.0            14.884467\n",
      "\n",
      "[9704 rows x 11 columns]>\n",
      "##############################\n",
      "   engine_displacement  num_cylinders  ...  num_doors  fuel_efficiency_mpg\n",
      "0                  170            3.0  ...        0.0            13.231729\n",
      "1                  130            5.0  ...        0.0            13.688217\n",
      "\n",
      "[2 rows x 11 columns]\n"
     ]
    }
   ],
   "source": [
    "import pandas as pd\n",
    "\n",
    "df = pd.read_csv(\"https://raw.githubusercontent.com/alexeygrigorev/datasets/master/car_fuel_efficiency.csv\")\n",
    "\n",
    "print(\"###########################\")\n",
    "print(\"Description of the Dataset : \")\n",
    "print(df.describe)\n",
    "print(\"##############################\")\n",
    "print(df.head(2))"
   ]
  }
 ],
 "metadata": {
  "kernelspec": {
   "display_name": "Python 3 (ipykernel)",
   "language": "python",
   "name": "python3"
  },
  "language_info": {
   "codemirror_mode": {
    "name": "ipython",
    "version": 3
   },
   "file_extension": ".py",
   "mimetype": "text/x-python",
   "name": "python",
   "nbconvert_exporter": "python",
   "pygments_lexer": "ipython3",
   "version": "3.12.1"
  }
 },
 "nbformat": 4,
 "nbformat_minor": 5
}
