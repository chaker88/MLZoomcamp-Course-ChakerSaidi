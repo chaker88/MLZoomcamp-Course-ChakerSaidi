{
 "cells": [
  {
   "cell_type": "code",
   "execution_count": 40,
   "id": "227c4897-6a3f-4ca6-9300-69693ccb02aa",
   "metadata": {},
   "outputs": [],
   "source": [
    "import pandas as pd\n",
    "import numpy as np\n",
    "import seaborn as sns\n",
    "import matplotlib.pyplot as plt\n",
    "from sklearn.model_selection import train_test_split\n",
    "from sklearn.metrics import mutual_info_score\n",
    "from sklearn.linear_model import LogisticRegression\n",
    "from sklearn.feature_extraction import DictVectorizer\n",
    "from sklearn.metrics import accuracy_score\n"
   ]
  },
  {
   "cell_type": "code",
   "execution_count": 41,
   "id": "21fa1515-8988-4275-bd06-52e59a8c2ee9",
   "metadata": {},
   "outputs": [
    {
     "data": {
      "text/html": [
       "<div>\n",
       "<style scoped>\n",
       "    .dataframe tbody tr th:only-of-type {\n",
       "        vertical-align: middle;\n",
       "    }\n",
       "\n",
       "    .dataframe tbody tr th {\n",
       "        vertical-align: top;\n",
       "    }\n",
       "\n",
       "    .dataframe thead th {\n",
       "        text-align: right;\n",
       "    }\n",
       "</style>\n",
       "<table border=\"1\" class=\"dataframe\">\n",
       "  <thead>\n",
       "    <tr style=\"text-align: right;\">\n",
       "      <th></th>\n",
       "      <th>lead_source</th>\n",
       "      <th>industry</th>\n",
       "      <th>number_of_courses_viewed</th>\n",
       "      <th>annual_income</th>\n",
       "      <th>employment_status</th>\n",
       "      <th>location</th>\n",
       "      <th>interaction_count</th>\n",
       "      <th>lead_score</th>\n",
       "      <th>converted</th>\n",
       "    </tr>\n",
       "  </thead>\n",
       "  <tbody>\n",
       "    <tr>\n",
       "      <th>0</th>\n",
       "      <td>paid_ads</td>\n",
       "      <td>NaN</td>\n",
       "      <td>1</td>\n",
       "      <td>79450.0</td>\n",
       "      <td>unemployed</td>\n",
       "      <td>south_america</td>\n",
       "      <td>4</td>\n",
       "      <td>0.94</td>\n",
       "      <td>1</td>\n",
       "    </tr>\n",
       "    <tr>\n",
       "      <th>1</th>\n",
       "      <td>social_media</td>\n",
       "      <td>retail</td>\n",
       "      <td>1</td>\n",
       "      <td>46992.0</td>\n",
       "      <td>employed</td>\n",
       "      <td>south_america</td>\n",
       "      <td>1</td>\n",
       "      <td>0.80</td>\n",
       "      <td>0</td>\n",
       "    </tr>\n",
       "    <tr>\n",
       "      <th>2</th>\n",
       "      <td>events</td>\n",
       "      <td>healthcare</td>\n",
       "      <td>5</td>\n",
       "      <td>78796.0</td>\n",
       "      <td>unemployed</td>\n",
       "      <td>australia</td>\n",
       "      <td>3</td>\n",
       "      <td>0.69</td>\n",
       "      <td>1</td>\n",
       "    </tr>\n",
       "    <tr>\n",
       "      <th>3</th>\n",
       "      <td>paid_ads</td>\n",
       "      <td>retail</td>\n",
       "      <td>2</td>\n",
       "      <td>83843.0</td>\n",
       "      <td>NaN</td>\n",
       "      <td>australia</td>\n",
       "      <td>1</td>\n",
       "      <td>0.87</td>\n",
       "      <td>0</td>\n",
       "    </tr>\n",
       "    <tr>\n",
       "      <th>4</th>\n",
       "      <td>referral</td>\n",
       "      <td>education</td>\n",
       "      <td>3</td>\n",
       "      <td>85012.0</td>\n",
       "      <td>self_employed</td>\n",
       "      <td>europe</td>\n",
       "      <td>3</td>\n",
       "      <td>0.62</td>\n",
       "      <td>1</td>\n",
       "    </tr>\n",
       "  </tbody>\n",
       "</table>\n",
       "</div>"
      ],
      "text/plain": [
       "    lead_source    industry  number_of_courses_viewed  annual_income  \\\n",
       "0      paid_ads         NaN                         1        79450.0   \n",
       "1  social_media      retail                         1        46992.0   \n",
       "2        events  healthcare                         5        78796.0   \n",
       "3      paid_ads      retail                         2        83843.0   \n",
       "4      referral   education                         3        85012.0   \n",
       "\n",
       "  employment_status       location  interaction_count  lead_score  converted  \n",
       "0        unemployed  south_america                  4        0.94          1  \n",
       "1          employed  south_america                  1        0.80          0  \n",
       "2        unemployed      australia                  3        0.69          1  \n",
       "3               NaN      australia                  1        0.87          0  \n",
       "4     self_employed         europe                  3        0.62          1  "
      ]
     },
     "execution_count": 41,
     "metadata": {},
     "output_type": "execute_result"
    }
   ],
   "source": [
    "path = \"https://raw.githubusercontent.com/alexeygrigorev/datasets/master/course_lead_scoring.csv\"\n",
    "df = pd.read_csv(path)\n",
    "df.head()"
   ]
  },
  {
   "cell_type": "code",
   "execution_count": 42,
   "id": "dd3946e8-259e-47f4-95a0-d5a357118e2e",
   "metadata": {},
   "outputs": [
    {
     "data": {
      "text/plain": [
       "lead_source                 128\n",
       "industry                    134\n",
       "number_of_courses_viewed      0\n",
       "annual_income               181\n",
       "employment_status           100\n",
       "location                     63\n",
       "interaction_count             0\n",
       "lead_score                    0\n",
       "converted                     0\n",
       "dtype: int64"
      ]
     },
     "execution_count": 42,
     "metadata": {},
     "output_type": "execute_result"
    }
   ],
   "source": [
    "# check for missing values\n",
    "df.isnull().sum()"
   ]
  },
  {
   "cell_type": "code",
   "execution_count": 43,
   "id": "49adc3e1-0031-49a3-ba1b-8adb2a74ccb2",
   "metadata": {},
   "outputs": [
    {
     "data": {
      "text/plain": [
       "lead_source                  object\n",
       "industry                     object\n",
       "number_of_courses_viewed      int64\n",
       "annual_income               float64\n",
       "employment_status            object\n",
       "location                     object\n",
       "interaction_count             int64\n",
       "lead_score                  float64\n",
       "converted                     int64\n",
       "dtype: object"
      ]
     },
     "execution_count": 43,
     "metadata": {},
     "output_type": "execute_result"
    }
   ],
   "source": [
    "# check the type of the ddataset columns (all the columns)\n",
    "df.dtypes"
   ]
  },
  {
   "cell_type": "code",
   "execution_count": 44,
   "id": "62827448-6670-4885-b17e-9954fad6bbce",
   "metadata": {},
   "outputs": [
    {
     "data": {
      "text/plain": [
       "['lead_source',\n",
       " 'industry',\n",
       " 'number_of_courses_viewed',\n",
       " 'annual_income',\n",
       " 'employment_status',\n",
       " 'location',\n",
       " 'interaction_count',\n",
       " 'lead_score',\n",
       " 'converted']"
      ]
     },
     "execution_count": 44,
     "metadata": {},
     "output_type": "execute_result"
    }
   ],
   "source": [
    "columns = df.columns.tolist()\n",
    "columns"
   ]
  },
  {
   "cell_type": "code",
   "execution_count": 45,
   "id": "b3ecc724-61ab-496a-8037-2ceb54d5d923",
   "metadata": {},
   "outputs": [
    {
     "data": {
      "text/plain": [
       "['lead_source', 'industry', 'employment_status', 'location']"
      ]
     },
     "execution_count": 45,
     "metadata": {},
     "output_type": "execute_result"
    }
   ],
   "source": [
    "# categorical variables:\n",
    "cat_var = list(df.dtypes[df.dtypes == 'object'].index)\n",
    "cat_var"
   ]
  },
  {
   "cell_type": "code",
   "execution_count": 46,
   "id": "e4bc8430-7f13-444e-bc19-6a783f043d69",
   "metadata": {},
   "outputs": [
    {
     "data": {
      "text/plain": [
       "['number_of_courses_viewed',\n",
       " 'annual_income',\n",
       " 'interaction_count',\n",
       " 'lead_score',\n",
       " 'converted']"
      ]
     },
     "execution_count": 46,
     "metadata": {},
     "output_type": "execute_result"
    }
   ],
   "source": [
    "# numerical variables:\n",
    "num_var = list(df.dtypes[df.dtypes != 'object'].index)\n",
    "num_var"
   ]
  },
  {
   "cell_type": "code",
   "execution_count": 47,
   "id": "c4e72fdc-e94d-43a0-b22a-e011df3b322f",
   "metadata": {},
   "outputs": [
    {
     "data": {
      "text/plain": [
       "lead_source                 0\n",
       "industry                    0\n",
       "number_of_courses_viewed    0\n",
       "annual_income               0\n",
       "employment_status           0\n",
       "location                    0\n",
       "interaction_count           0\n",
       "lead_score                  0\n",
       "converted                   0\n",
       "dtype: int64"
      ]
     },
     "execution_count": 47,
     "metadata": {},
     "output_type": "execute_result"
    }
   ],
   "source": [
    "# impute missing values with 'NA' for categorical and 0 for numercial\n",
    "df[cat_var] = df[cat_var].fillna('NA')\n",
    "df[num_var] = df[num_var].fillna(0)\n",
    "# check if the imputation is correctly done\n",
    "df.isnull().sum()"
   ]
  },
  {
   "cell_type": "markdown",
   "id": "deef213e-9a82-4186-a46e-ecd279d5ce02",
   "metadata": {},
   "source": [
    "## Question 1"
   ]
  },
  {
   "cell_type": "code",
   "execution_count": 48,
   "id": "d66406c8-5412-4c5c-9522-5c804e3bc3d3",
   "metadata": {},
   "outputs": [
    {
     "name": "stdout",
     "output_type": "stream",
     "text": [
      "The most frequent value in industry is : retail\n"
     ]
    }
   ],
   "source": [
    "# the most frequent value in industry column\n",
    "most_freq = df['industry'].mode()[0]\n",
    "print(f\"The most frequent value in industry is : {most_freq}\")"
   ]
  },
  {
   "cell_type": "markdown",
   "id": "0a95c6b8-a7dd-4409-9f4d-f6432ad36fe6",
   "metadata": {},
   "source": [
    "## Question 2"
   ]
  },
  {
   "cell_type": "code",
   "execution_count": 49,
   "id": "de857701-ca7f-4332-a9e1-65fc42b4910b",
   "metadata": {},
   "outputs": [
    {
     "data": {
      "image/png": "[encoded data removed]",
      "text/plain": [
       "<Figure size 640x480 with 2 Axes>"
      ]
     },
     "metadata": {},
     "output_type": "display_data"
    }
   ],
   "source": [
    "corr_matrix = df[num_var].corr()\n",
    "sns.heatmap(corr_matrix,annot= True)\n",
    "plt.title(\"Correlation Matrix\")\n",
    "plt.show()"
   ]
  },
  {
   "cell_type": "code",
   "execution_count": 50,
   "id": "ea48b106-a967-4e87-828a-51ba6ba94680",
   "metadata": {},
   "outputs": [
    {
     "name": "stdout",
     "output_type": "stream",
     "text": [
      "Train set: (877, 8), Validation set: (292, 8), Test set: (293, 8)\n",
      "Train set: 59.99%, Validation set: 19.97%, Test set: 20.04%\n"
     ]
    }
   ],
   "source": [
    "# split the data in train/val/test sets with 60%/20%/20% distribution (using sklearn)\n",
    "# Make sure that the target value y is not in your dataframe.\n",
    "X = df.drop('converted', axis=1)\n",
    "y = df['converted']\n",
    "X_train, X_temp, y_train, y_temp = train_test_split(X, y, test_size=0.4, random_state=42)\n",
    "X_val, X_test, y_val, y_test = train_test_split(X_temp, y_temp, test_size=0.5, random_state=42)\n",
    "print(f\"Train set: {X_train.shape}, Validation set: {X_val.shape}, Test set: {X_test.shape}\")\n",
    "# check if the len is 60,20,20\n",
    "print(f\"Train set: {len(X_train)/len(X):.2%}, Validation set: {len(X_val)/len(X):.2%}, Test set: {len(X_test)/len(X):.2%}\")"
   ]
  },
  {
   "cell_type": "code",
   "execution_count": 51,
   "id": "1615f71f-664a-4029-9d5d-a7abdf622908",
   "metadata": {},
   "outputs": [],
   "source": [
    "def mutual_score_func(series):\n",
    "    return mutual_info_score(series,y_train)"
   ]
  },
  {
   "cell_type": "code",
   "execution_count": 52,
   "id": "2d715a22-47e8-4708-b0e8-74d923c8a7ae",
   "metadata": {},
   "outputs": [
    {
     "data": {
      "text/plain": [
       "lead_source          0.028192\n",
       "employment_status    0.018339\n",
       "industry             0.015059\n",
       "location             0.003457\n",
       "dtype: float64"
      ]
     },
     "execution_count": 52,
     "metadata": {},
     "output_type": "execute_result"
    }
   ],
   "source": [
    "mi = X_train[cat_var].apply(mutual_score_func)\n",
    "mi.sort_values(ascending=False)"
   ]
  },
  {
   "cell_type": "code",
   "execution_count": 53,
   "id": "87e2d8b5-c9de-4107-9022-7e0b3d570dad",
   "metadata": {},
   "outputs": [
    {
     "name": "stderr",
     "output_type": "stream",
     "text": [
      "/opt/conda/envs/ml-zoomcamp/lib/python3.11/site-packages/sklearn/metrics/cluster/_supervised.py:49: UserWarning: The number of unique classes is greater than 50% of the number of samples. `y` could represent a regression problem, not a classification problem.\n",
      "  type_label = type_of_target(labels_true)\n",
      "/opt/conda/envs/ml-zoomcamp/lib/python3.11/site-packages/sklearn/metrics/cluster/_supervised.py:58: UserWarning: Clustering metrics expects discrete values but received continuous values for label, and binary values for target\n",
      "  warnings.warn(msg, UserWarning)\n"
     ]
    },
    {
     "data": {
      "text/plain": [
       "annual_income               0.582064\n",
       "number_of_courses_viewed    0.122595\n",
       "lead_score                  0.088911\n",
       "interaction_count           0.079365\n",
       "dtype: float64"
      ]
     },
     "execution_count": 53,
     "metadata": {},
     "output_type": "execute_result"
    }
   ],
   "source": [
    "mi = X_train[num_var[:-1]].apply(mutual_score_func)\n",
    "mi.sort_values(ascending=False)"
   ]
  },
  {
   "cell_type": "code",
   "execution_count": 54,
   "id": "b22c510e-edd7-4e59-9b4d-db56aade220b",
   "metadata": {},
   "outputs": [
    {
     "data": {
      "text/plain": [
       "number_of_courses_viewed    0.445558\n",
       "annual_income               0.000803\n",
       "interaction_count           0.366016\n",
       "lead_score                  0.216355\n",
       "dtype: float64"
      ]
     },
     "execution_count": 54,
     "metadata": {},
     "output_type": "execute_result"
    }
   ],
   "source": [
    "X_train[num_var[:-1]].corrwith(y_train)"
   ]
  },
  {
   "cell_type": "markdown",
   "id": "9dd11d66-7bfc-46ab-9f88-bda9460452b8",
   "metadata": {},
   "source": [
    "## Question 4"
   ]
  },
  {
   "cell_type": "code",
   "execution_count": 55,
   "id": "4d7b7ade-3b02-4a0c-9398-9b1d6adc92f9",
   "metadata": {},
   "outputs": [
    {
     "data": {
      "text/html": [
       "<div>\n",
       "<style scoped>\n",
       "    .dataframe tbody tr th:only-of-type {\n",
       "        vertical-align: middle;\n",
       "    }\n",
       "\n",
       "    .dataframe tbody tr th {\n",
       "        vertical-align: top;\n",
       "    }\n",
       "\n",
       "    .dataframe thead th {\n",
       "        text-align: right;\n",
       "    }\n",
       "</style>\n",
       "<table border=\"1\" class=\"dataframe\">\n",
       "  <thead>\n",
       "    <tr style=\"text-align: right;\">\n",
       "      <th></th>\n",
       "      <th>lead_source</th>\n",
       "      <th>industry</th>\n",
       "      <th>number_of_courses_viewed</th>\n",
       "      <th>annual_income</th>\n",
       "      <th>employment_status</th>\n",
       "      <th>location</th>\n",
       "      <th>interaction_count</th>\n",
       "      <th>lead_score</th>\n",
       "    </tr>\n",
       "  </thead>\n",
       "  <tbody>\n",
       "    <tr>\n",
       "      <th>442</th>\n",
       "      <td>referral</td>\n",
       "      <td>finance</td>\n",
       "      <td>1</td>\n",
       "      <td>61705.0</td>\n",
       "      <td>unemployed</td>\n",
       "      <td>south_america</td>\n",
       "      <td>4</td>\n",
       "      <td>0.65</td>\n",
       "    </tr>\n",
       "    <tr>\n",
       "      <th>319</th>\n",
       "      <td>referral</td>\n",
       "      <td>education</td>\n",
       "      <td>1</td>\n",
       "      <td>55199.0</td>\n",
       "      <td>employed</td>\n",
       "      <td>south_america</td>\n",
       "      <td>4</td>\n",
       "      <td>0.09</td>\n",
       "    </tr>\n",
       "    <tr>\n",
       "      <th>767</th>\n",
       "      <td>referral</td>\n",
       "      <td>retail</td>\n",
       "      <td>1</td>\n",
       "      <td>40841.0</td>\n",
       "      <td>self_employed</td>\n",
       "      <td>africa</td>\n",
       "      <td>4</td>\n",
       "      <td>0.61</td>\n",
       "    </tr>\n",
       "    <tr>\n",
       "      <th>756</th>\n",
       "      <td>referral</td>\n",
       "      <td>other</td>\n",
       "      <td>1</td>\n",
       "      <td>28242.0</td>\n",
       "      <td>employed</td>\n",
       "      <td>middle_east</td>\n",
       "      <td>3</td>\n",
       "      <td>0.84</td>\n",
       "    </tr>\n",
       "    <tr>\n",
       "      <th>424</th>\n",
       "      <td>events</td>\n",
       "      <td>retail</td>\n",
       "      <td>0</td>\n",
       "      <td>64775.0</td>\n",
       "      <td>self_employed</td>\n",
       "      <td>south_america</td>\n",
       "      <td>3</td>\n",
       "      <td>0.70</td>\n",
       "    </tr>\n",
       "    <tr>\n",
       "      <th>...</th>\n",
       "      <td>...</td>\n",
       "      <td>...</td>\n",
       "      <td>...</td>\n",
       "      <td>...</td>\n",
       "      <td>...</td>\n",
       "      <td>...</td>\n",
       "      <td>...</td>\n",
       "      <td>...</td>\n",
       "    </tr>\n",
       "    <tr>\n",
       "      <th>1130</th>\n",
       "      <td>events</td>\n",
       "      <td>manufacturing</td>\n",
       "      <td>1</td>\n",
       "      <td>57039.0</td>\n",
       "      <td>employed</td>\n",
       "      <td>south_america</td>\n",
       "      <td>2</td>\n",
       "      <td>0.30</td>\n",
       "    </tr>\n",
       "    <tr>\n",
       "      <th>1294</th>\n",
       "      <td>events</td>\n",
       "      <td>healthcare</td>\n",
       "      <td>2</td>\n",
       "      <td>56185.0</td>\n",
       "      <td>student</td>\n",
       "      <td>south_america</td>\n",
       "      <td>2</td>\n",
       "      <td>0.44</td>\n",
       "    </tr>\n",
       "    <tr>\n",
       "      <th>860</th>\n",
       "      <td>paid_ads</td>\n",
       "      <td>manufacturing</td>\n",
       "      <td>1</td>\n",
       "      <td>56402.0</td>\n",
       "      <td>student</td>\n",
       "      <td>north_america</td>\n",
       "      <td>1</td>\n",
       "      <td>0.02</td>\n",
       "    </tr>\n",
       "    <tr>\n",
       "      <th>1459</th>\n",
       "      <td>paid_ads</td>\n",
       "      <td>technology</td>\n",
       "      <td>1</td>\n",
       "      <td>45688.0</td>\n",
       "      <td>student</td>\n",
       "      <td>north_america</td>\n",
       "      <td>3</td>\n",
       "      <td>0.02</td>\n",
       "    </tr>\n",
       "    <tr>\n",
       "      <th>1126</th>\n",
       "      <td>events</td>\n",
       "      <td>manufacturing</td>\n",
       "      <td>0</td>\n",
       "      <td>43862.0</td>\n",
       "      <td>self_employed</td>\n",
       "      <td>asia</td>\n",
       "      <td>4</td>\n",
       "      <td>0.21</td>\n",
       "    </tr>\n",
       "  </tbody>\n",
       "</table>\n",
       "<p>877 rows × 8 columns</p>\n",
       "</div>"
      ],
      "text/plain": [
       "     lead_source       industry  number_of_courses_viewed  annual_income  \\\n",
       "442     referral        finance                         1        61705.0   \n",
       "319     referral      education                         1        55199.0   \n",
       "767     referral         retail                         1        40841.0   \n",
       "756     referral          other                         1        28242.0   \n",
       "424       events         retail                         0        64775.0   \n",
       "...          ...            ...                       ...            ...   \n",
       "1130      events  manufacturing                         1        57039.0   \n",
       "1294      events     healthcare                         2        56185.0   \n",
       "860     paid_ads  manufacturing                         1        56402.0   \n",
       "1459    paid_ads     technology                         1        45688.0   \n",
       "1126      events  manufacturing                         0        43862.0   \n",
       "\n",
       "     employment_status       location  interaction_count  lead_score  \n",
       "442         unemployed  south_america                  4        0.65  \n",
       "319           employed  south_america                  4        0.09  \n",
       "767      self_employed         africa                  4        0.61  \n",
       "756           employed    middle_east                  3        0.84  \n",
       "424      self_employed  south_america                  3        0.70  \n",
       "...                ...            ...                ...         ...  \n",
       "1130          employed  south_america                  2        0.30  \n",
       "1294           student  south_america                  2        0.44  \n",
       "860            student  north_america                  1        0.02  \n",
       "1459           student  north_america                  3        0.02  \n",
       "1126     self_employed           asia                  4        0.21  \n",
       "\n",
       "[877 rows x 8 columns]"
      ]
     },
     "execution_count": 55,
     "metadata": {},
     "output_type": "execute_result"
    }
   ],
   "source": [
    "numerical = ['number_of_courses_viewed',\n",
    " 'annual_income',\n",
    " 'interaction_count',\n",
    " 'lead_score']\n",
    "X_train"
   ]
  },
  {
   "cell_type": "code",
   "execution_count": 56,
   "id": "bd8d166b-1eb8-4172-8a58-64ad471a68ec",
   "metadata": {},
   "outputs": [],
   "source": [
    "dv = DictVectorizer(sparse=False)\n",
    "\n",
    "train_dict = X_train.to_dict(orient='records')\n",
    "X_train_transformed = dv.fit_transform(train_dict)\n",
    "\n",
    "val_dict = X_val.to_dict(orient='records')\n",
    "X_val_transformed = dv.transform(val_dict)"
   ]
  },
  {
   "cell_type": "code",
   "execution_count": 57,
   "id": "c8a48588-823f-463b-ac7b-b8909e2aa263",
   "metadata": {},
   "outputs": [
    {
     "name": "stdout",
     "output_type": "stream",
     "text": [
      "0.7431506849315068\n"
     ]
    }
   ],
   "source": [
    "# train the model\n",
    "model = LogisticRegression(solver='liblinear', C=1.0, max_iter=1000, random_state=42)\n",
    "model.fit(X_train_transformed, y_train)\n",
    "y_pred = model.predict_proba(X_val_transformed)[:, 1]\n",
    "y_pred_binary = (y_pred >= 0.5).astype(int)\n",
    "accuracy_base = (y_val == y_pred_binary).mean()\n",
    "print(accuracy_base)"
   ]
  },
  {
   "cell_type": "code",
   "execution_count": 58,
   "id": "002c920f-e9f0-4100-906a-bedb800b70fe",
   "metadata": {},
   "outputs": [
    {
     "data": {
      "text/plain": [
       "{'annual_income': np.float64(-0.0),\n",
       " 'employment_status=NA': np.float64(-0.014),\n",
       " 'employment_status=employed': np.float64(0.03),\n",
       " 'employment_status=self_employed': np.float64(0.018),\n",
       " 'employment_status=student': np.float64(0.012),\n",
       " 'employment_status=unemployed': np.float64(-0.106),\n",
       " 'industry=NA': np.float64(-0.021),\n",
       " 'industry=education': np.float64(0.054),\n",
       " 'industry=finance': np.float64(-0.025),\n",
       " 'industry=healthcare': np.float64(-0.022),\n",
       " 'industry=manufacturing': np.float64(-0.011),\n",
       " 'industry=other': np.float64(-0.004),\n",
       " 'industry=retail': np.float64(-0.016),\n",
       " 'industry=technology': np.float64(-0.014),\n",
       " 'interaction_count': np.float64(0.299),\n",
       " 'lead_score': np.float64(0.047),\n",
       " 'lead_source=NA': np.float64(0.009),\n",
       " 'lead_source=events': np.float64(-0.014),\n",
       " 'lead_source=organic_search': np.float64(-0.014),\n",
       " 'lead_source=paid_ads': np.float64(-0.096),\n",
       " 'lead_source=referral': np.float64(0.071),\n",
       " 'lead_source=social_media': np.float64(-0.015),\n",
       " 'location=NA': np.float64(0.005),\n",
       " 'location=africa': np.float64(-0.014),\n",
       " 'location=asia': np.float64(-0.012),\n",
       " 'location=australia': np.float64(-0.01),\n",
       " 'location=europe': np.float64(0.005),\n",
       " 'location=middle_east': np.float64(0.007),\n",
       " 'location=north_america': np.float64(-0.021),\n",
       " 'location=south_america': np.float64(-0.018),\n",
       " 'number_of_courses_viewed': np.float64(0.451)}"
      ]
     },
     "execution_count": 58,
     "metadata": {},
     "output_type": "execute_result"
    }
   ],
   "source": [
    "dict(zip(dv.get_feature_names_out(), model.coef_[0].round(3)))\n"
   ]
  },
  {
   "cell_type": "code",
   "execution_count": 59,
   "id": "5f5b33df-5fa0-49ec-b140-21c954e7103e",
   "metadata": {},
   "outputs": [
    {
     "name": "stdout",
     "output_type": "stream",
     "text": [
      "After excluding industry feature the difference in accuracy is : 0.0\n",
      "After excluding employment_status feature the difference in accuracy is : -0.003424657534246589\n",
      "After excluding lead_score feature the difference in accuracy is : 0.0\n"
     ]
    }
   ],
   "source": [
    "excluded_columns = ['industry','employment_status','lead_score']\n",
    "\n",
    "for col in excluded_columns:\n",
    "    # drop the feature from both the train and validation dataset\n",
    "    X_train_dropped = X_train.drop(columns=[col])\n",
    "    X_val_dropped = X_val.drop(columns=[col])\n",
    "    \n",
    "    #instantiate the Dictvictorizer to encode categorical variables\n",
    "    dv = DictVectorizer(sparse=False)\n",
    "    train_dict = X_train_dropped.to_dict(orient='records')\n",
    "    X_train_transformed = dv.fit_transform(train_dict)\n",
    "    val_dict = X_val_dropped.to_dict(orient='records')\n",
    "    X_val_transformed = dv.transform(val_dict)\n",
    "\n",
    "    # train the model\n",
    "    model = LogisticRegression(solver='liblinear', C=1.0, max_iter=1000, random_state=42)\n",
    "    model.fit(X_train_transformed,y_train)\n",
    "\n",
    "    # Evalueate the  model \n",
    "    y_pred = model.predict(X_val_transformed)\n",
    "    acc = accuracy_score(y_val, y_pred)\n",
    "    difference = accuracy_base - acc\n",
    "\n",
    "    # Result\n",
    "    print(f\"After excluding {col} feature the difference in accuracy is : {difference}\")\n",
    "    "
   ]
  },
  {
   "cell_type": "code",
   "execution_count": 144,
   "id": "38ed1ba2-6c46-493e-8478-05dbab3b6a3f",
   "metadata": {},
   "outputs": [
    {
     "name": "stdout",
     "output_type": "stream",
     "text": [
      "with c equals : 0.01 the accuracy is 0.7397260273972602\n",
      "with c equals : 0.1 the accuracy is 0.7397260273972602\n",
      "with c equals : 1 the accuracy is 0.7431506849315068\n",
      "with c equals : 10 the accuracy is 0.7431506849315068\n"
     ]
    }
   ],
   "source": [
    "# train the model with all the features but with different C values\n",
    "C_values = [0.01, 0.1, 1, 10]\n",
    "c_dict = {}\n",
    "for C in C_values:\n",
    "    model = LogisticRegression(solver='liblinear', C=C, max_iter=1000, random_state=42)\n",
    "    model.fit(X_train_transformed, y_train)\n",
    "    y_pred = model.predict_proba(X_val_transformed)[:, 1]\n",
    "    y_pred_binary = (y_pred >= 0.5).astype(int)\n",
    "    accuracy_base = (y_val == y_pred_binary).mean()\n",
    "    c_dict[C] = accuracy_base\n",
    "    print(f\"with c equals : {C} the accuracy is {accuracy_base}\")"
   ]
  },
  {
   "cell_type": "code",
   "execution_count": 147,
   "id": "91044425",
   "metadata": {},
   "outputs": [
    {
     "name": "stdout",
     "output_type": "stream",
     "text": [
      "[np.float64(0.7397260273972602), np.float64(0.7397260273972602), np.float64(0.7431506849315068), np.float64(0.7431506849315068)]\n"
     ]
    }
   ],
   "source": [
    "my_list = []\n",
    "for k, v in c_dict.items():\n",
    "    my_list.append(v)\n",
    "print(my_list)"
   ]
  },
  {
   "cell_type": "code",
   "execution_count": 151,
   "id": "acf72f62-4dcc-4490-bce5-bfe409d9ead2",
   "metadata": {},
   "outputs": [],
   "source": [
    "array = np.array(my_list)\n",
    "search = array.max()"
   ]
  },
  {
   "cell_type": "code",
   "execution_count": 152,
   "id": "186c659c-575e-48ec-8e12-904f2cd73f2e",
   "metadata": {},
   "outputs": [
    {
     "name": "stdout",
     "output_type": "stream",
     "text": [
      "1\n"
     ]
    }
   ],
   "source": [
    "for k,v in c_dict.items():\n",
    "    if v == search:\n",
    "        print(k)\n",
    "        break"
   ]
  },
  {
   "cell_type": "code",
   "execution_count": null,
   "id": "446ba38d-85c4-45c2-b23e-5738a7622183",
   "metadata": {},
   "outputs": [],
   "source": []
  }
 ],
 "metadata": {
  "kernelspec": {
   "display_name": "ml-zoomcamp",
   "language": "python",
   "name": "python3"
  },
  "language_info": {
   "codemirror_mode": {
    "name": "ipython",
    "version": 3
   },
   "file_extension": ".py",
   "mimetype": "text/x-python",
   "name": "python",
   "nbconvert_exporter": "python",
   "pygments_lexer": "ipython3",
   "version": "3.11.13"
  }
 },
 "nbformat": 4,
 "nbformat_minor": 5
}
